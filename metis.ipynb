{
 "cells": [
  {
   "cell_type": "markdown",
   "metadata": {},
   "source": [
    "Please revise the provided example in Python, such that the guessing game allows a player at most 10 attempts to guess a random integer between 0 and 100 (inclusive). After each guess the program will say whether the answer is too low, too high, or correct, and after 10 guesses or one correct guess the game will end. At the end of the game the program will say the player has won or lost."
   ]
  },
  {
   "cell_type": "code",
   "execution_count": 1,
   "metadata": {
    "collapsed": false
   },
   "outputs": [],
   "source": [
    "##THIS WAS THE CODE GIVEN AS A GUIDE\n",
    "\n",
    "# secret_number = generate a random number between 0 and 100  \n",
    "#   guess = -1     \n",
    "#   while secret_number != guess   \n",
    "#     guess = get a guess input from player    \n",
    "#     if guess < secret_number   \n",
    "#      say “your guess is low”    \n",
    "#     else if guess > secret_number    \n",
    "#       say “your guess is high”   \n",
    "#    else   \n",
    "#       say “you guessed right!”   \n",
    "#     end if   \n",
    "#   end while\n",
    "  \n",
    "\n",
    "# BACK  NEXT\n"
   ]
  },
  {
   "cell_type": "code",
   "execution_count": 2,
   "metadata": {
    "collapsed": true
   },
   "outputs": [],
   "source": [
    "from random import randint\n",
    "def game():\n",
    "    counter = 1\n",
    "    secret_number = randint(0,100)\n",
    "    guess = -1\n",
    "    while secret_number!= guess and counter <= 10:\n",
    "        guess = int(input(\"Please make you guess: \"))\n",
    "        print()\n",
    "        if guess != secret_number:\n",
    "            if guess > secret_number:\n",
    "                print(\"Your guess was too high\")\n",
    "                print()\n",
    "                counter+=1\n",
    "            else:\n",
    "                print(\"Your guess was too low\")\n",
    "                print()\n",
    "                counter +=1\n",
    "        else:\n",
    "            print(\"You guessed right! - You win!\")\n",
    "    if counter == 11:\n",
    "        print(\"Sorry, you are out of guesses! Please play again!\")"
   ]
  },
  {
   "cell_type": "code",
   "execution_count": null,
   "metadata": {
    "collapsed": true
   },
   "outputs": [],
   "source": []
  }
 ],
 "metadata": {
  "kernelspec": {
   "display_name": "Python [conda root]",
   "language": "python",
   "name": "conda-root-py"
  },
  "language_info": {
   "codemirror_mode": {
    "name": "ipython",
    "version": 3
   },
   "file_extension": ".py",
   "mimetype": "text/x-python",
   "name": "python",
   "nbconvert_exporter": "python",
   "pygments_lexer": "ipython3",
   "version": "3.5.2"
  }
 },
 "nbformat": 4,
 "nbformat_minor": 2
}

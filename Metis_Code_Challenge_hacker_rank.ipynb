{
 "cells": [
  {
   "cell_type": "markdown",
   "metadata": {},
   "source": [
    "This notebook contains some challenges I encountered on HackerRank while partiking in the 'This is Metis\" timed challenges."
   ]
  },
  {
   "cell_type": "code",
   "execution_count": 1,
   "metadata": {
    "collapsed": true,
    "deletable": true,
    "editable": true
   },
   "outputs": [],
   "source": [
    "def even_between(lower, upper):\n",
    "    '''\n",
    "    This function will produce a function with all the evern numbers between the lower\n",
    "    and upper bound inclusive.\n",
    "    '''\n",
    "    list1 = []\n",
    "    for i in range(lower, upper+1):\n",
    "        if i%2 == 0:\n",
    "            list1.append(i)\n",
    "    return sorted(list1)"
   ]
  },
  {
   "cell_type": "code",
   "execution_count": 2,
   "metadata": {
    "collapsed": false
   },
   "outputs": [
    {
     "data": {
      "text/plain": [
       "[10, 12, 14, 16, 18, 20]"
      ]
     },
     "execution_count": 2,
     "metadata": {},
     "output_type": "execute_result"
    }
   ],
   "source": [
    "even_between(10, 20)"
   ]
  },
  {
   "cell_type": "code",
   "execution_count": 3,
   "metadata": {
    "collapsed": true,
    "deletable": true,
    "editable": true
   },
   "outputs": [],
   "source": [
    "def  create_dictionary(lower, upper):\n",
    "    '''\n",
    "    This function will create a dictionary which lists all odd and even numbers\n",
    "    between the lower and upper bounds inclusive\n",
    "    '''\n",
    "    d = {'Even': [], \"Odd\": []}\n",
    "    for i in range(lower, upper+1):\n",
    "        if i%2 == 0:\n",
    "            d['Even'].append(i)\n",
    "        else:\n",
    "            d['Odd'].append(i)\n",
    "    return print(d)"
   ]
  },
  {
   "cell_type": "code",
   "execution_count": 4,
   "metadata": {
    "collapsed": false
   },
   "outputs": [
    {
     "name": "stdout",
     "output_type": "stream",
     "text": [
      "{'Odd': [11, 13, 15, 17, 19], 'Even': [10, 12, 14, 16, 18, 20]}\n"
     ]
    }
   ],
   "source": [
    "create_dictionary(10,20)"
   ]
  },
  {
   "cell_type": "code",
   "execution_count": 5,
   "metadata": {
    "collapsed": false,
    "deletable": true,
    "editable": true
   },
   "outputs": [],
   "source": [
    "def number_to_roman(number):\n",
    "    '''\n",
    "    This function will take any interger value and output it's equivalent form in Roman Numerals\n",
    "    '''\n",
    "    integers = (1000, 900,  500, 400, 100,  90, 50,  40, 10,  9,   5,  4,   1)\n",
    "    numerals = ('M',  'CM', 'D', 'CD','C', 'XC','L','XL','X','IX','V','IV','I')\n",
    "    output = \"\" #init empty string\n",
    "    for i in range(len(integers)):\n",
    "        number_breakdown = int(number / integers[i])#obtain main elements of number\n",
    "        output += numerals[i] * number_breakdown\n",
    "        number -= integers[i] * number_breakdown\n",
    "    return output"
   ]
  },
  {
   "cell_type": "code",
   "execution_count": 6,
   "metadata": {
    "collapsed": false,
    "deletable": true,
    "editable": true
   },
   "outputs": [
    {
     "data": {
      "text/plain": [
       "'CCCXLVII'"
      ]
     },
     "execution_count": 6,
     "metadata": {},
     "output_type": "execute_result"
    }
   ],
   "source": [
    "number_to_roman(347)"
   ]
  },
  {
   "cell_type": "code",
   "execution_count": 7,
   "metadata": {
    "collapsed": true,
    "deletable": true,
    "editable": true
   },
   "outputs": [],
   "source": [
    "def  check_anagram(string1, string2):\n",
    "    '''\n",
    "    This function will check if 2 strings are anagrams.\n",
    "    '''\n",
    "    string1 = string1.lower()\n",
    "    string2 = string2.lower()\n",
    "    s = 0\n",
    "    s1 = 0\n",
    "    for i in string1:\n",
    "        s += hash(i)\n",
    "    for i in string2:\n",
    "        s1 += hash(i)\n",
    "    if s == s1:\n",
    "        return True\n",
    "    else:\n",
    "        return False"
   ]
  },
  {
   "cell_type": "code",
   "execution_count": 8,
   "metadata": {
    "collapsed": false,
    "deletable": true,
    "editable": true
   },
   "outputs": [
    {
     "data": {
      "text/plain": [
       "True"
      ]
     },
     "execution_count": 8,
     "metadata": {},
     "output_type": "execute_result"
    }
   ],
   "source": [
    "check_anagram('drab', 'brad')"
   ]
  },
  {
   "cell_type": "code",
   "execution_count": 9,
   "metadata": {
    "collapsed": false,
    "deletable": true,
    "editable": true
   },
   "outputs": [
    {
     "data": {
      "text/plain": [
       "False"
      ]
     },
     "execution_count": 9,
     "metadata": {},
     "output_type": "execute_result"
    }
   ],
   "source": [
    "check_anagram('ddrab', 'brad')"
   ]
  }
 ],
 "metadata": {
  "kernelspec": {
   "display_name": "Python [conda root]",
   "language": "python",
   "name": "conda-root-py"
  },
  "language_info": {
   "codemirror_mode": {
    "name": "ipython",
    "version": 3
   },
   "file_extension": ".py",
   "mimetype": "text/x-python",
   "name": "python",
   "nbconvert_exporter": "python",
   "pygments_lexer": "ipython3",
   "version": "3.5.2"
  }
 },
 "nbformat": 4,
 "nbformat_minor": 2
}
